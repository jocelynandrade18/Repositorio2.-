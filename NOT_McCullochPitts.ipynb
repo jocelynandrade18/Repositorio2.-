{
  "nbformat": 4,
  "nbformat_minor": 0,
  "metadata": {
    "colab": {
      "provenance": [],
      "authorship_tag": "ABX9TyPPONYHmX2y8yxdRQ4exyoF",
      "include_colab_link": true
    },
    "kernelspec": {
      "name": "python3",
      "display_name": "Python 3"
    },
    "language_info": {
      "name": "python"
    }
  },
  "cells": [
    {
      "cell_type": "markdown",
      "metadata": {
        "id": "view-in-github",
        "colab_type": "text"
      },
      "source": [
        "<a href=\"https://colab.research.google.com/github/jocelynandrade18/Repositorio2.-/blob/main/NOT_McCullochPitts.ipynb\" target=\"_parent\"><img src=\"https://colab.research.google.com/assets/colab-badge.svg\" alt=\"Open In Colab\"/></a>"
      ]
    },
    {
      "cell_type": "markdown",
      "source": [
        "# Operación NOT"
      ],
      "metadata": {
        "id": "x2RMLCaDwx2M"
      }
    },
    {
      "cell_type": "code",
      "execution_count": 1,
      "metadata": {
        "colab": {
          "base_uri": "https://localhost:8080/"
        },
        "id": "zptrMPWdwliM",
        "outputId": "01db7f33-3ef9-4fd5-da67-f793e8c3120e"
      },
      "outputs": [
        {
          "output_type": "stream",
          "name": "stdout",
          "text": [
            "Input: [0], Weighted Sum: 0\n",
            "Input: [1], Weighted Sum: -1\n",
            "\n",
            "Salidas esperadas (Y): [1 0]\n",
            "Predicciones (Predictions): [1, 0]\n"
          ]
        }
      ],
      "source": [
        "import numpy as np # Importa la librería NumPy\n",
        "\n",
        "# Entradas para la neurona (Solo una entrada x1)\n",
        "X = np.array([\n",
        "    [0],  # Entrada: x1=0\n",
        "    [1]   # Entrada: x1=1\n",
        "])\n",
        "# Salidas esperadas en Lógica NOT\n",
        "Y = np.array([1, 0]) # Salidas: NOT(0)=1, NOT(1)=0\n",
        "\n",
        "# Pesos para la entrada en la cual necesitaremos un negativo por las operaciones que haremos\n",
        "W = [-1] # Peso único: w1 = -1\n",
        "# Umbral para la función de activación\n",
        "umbral = 0 # Umbral definido\n",
        "\n",
        "class McCullochPitts: # La clase es la misma y podemos utilizarla en los siguientes pasos\n",
        "    def __init__(self, weights, umbral): # Definimos las variables \"self, weights y umbral\"\n",
        "        \"\"\"\n",
        "            Constructor de la neurona MCP.\n",
        "        \"\"\"\n",
        "        self.weights = weights # Tenemos la variable que es igual a la misma variable\n",
        "        self.umbral = umbral # Ocurre lo mismo, puesto que lo estamos definiendo\n",
        "\n",
        "    def predict(self, X): # Definimos la prediccion, diciendo que tomaremos solo los elementos de la X\n",
        "        \"\"\"\n",
        "            Calcula la salida de la neurona.\n",
        "        \"\"\"\n",
        "        predictions = [] # Predecimos en una lista vacia\n",
        "        # Recorremos cada fila de entradas\n",
        "        for i in range(X.shape[0]): # Recorremos cada fila, empezando con el primer elemento ubicado en las X\n",
        "            # Calculamos la suma ponderada: w1*x1\n",
        "            # Nota: X[i] es una lista de un solo elemento, np.dot funciona igual\n",
        "            weighted_sum = np.dot(self.weights, X[i])\n",
        "            # Mostramos en consola la entrada y la suma ponderada\n",
        "            print(f\"Input: {X[i]}, Weighted Sum: {weighted_sum}\")\n",
        "            # Comparación con el umbral (Función de activación escalón)\n",
        "            if weighted_sum >= self.umbral:\n",
        "                predictions.append(1) # Si se cumple la condición evaluada inmediatamente antes, añade un 1 a la lista predictions;\n",
        "            else: # Si no\n",
        "                predictions.append(0) # en caso contrario, añade un 0\n",
        "        return predictions # retornar la lista completa de predicciones binarias como el resultado de la función\n",
        "\n",
        "# Instanciamos la clase McCullochPitts\n",
        "mcp = McCullochPitts(W, umbral)\n",
        "# Calculamos las predicciones\n",
        "predictions = mcp.predict(X)\n",
        "# Mostramos el resultado final\n",
        "print(\"\\nSalidas esperadas (Y):\", Y) # imprime las salidas esperadas de Y\n",
        "print(\"Predicciones (Predictions):\", predictions) #Imprime las predicciones que dan el resultado final"
      ]
    }
  ]
}