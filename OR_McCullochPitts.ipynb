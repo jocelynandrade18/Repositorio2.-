{
  "nbformat": 4,
  "nbformat_minor": 0,
  "metadata": {
    "colab": {
      "provenance": [],
      "authorship_tag": "ABX9TyOFmowk6PAqDlq4sACAKHku",
      "include_colab_link": true
    },
    "kernelspec": {
      "name": "python3",
      "display_name": "Python 3"
    },
    "language_info": {
      "name": "python"
    }
  },
  "cells": [
    {
      "cell_type": "markdown",
      "metadata": {
        "id": "view-in-github",
        "colab_type": "text"
      },
      "source": [
        "<a href=\"https://colab.research.google.com/github/jocelynandrade18/Repositorio2.-/blob/main/OR_McCullochPitts.ipynb\" target=\"_parent\"><img src=\"https://colab.research.google.com/assets/colab-badge.svg\" alt=\"Open In Colab\"/></a>"
      ]
    },
    {
      "cell_type": "markdown",
      "source": [
        "# Operación OR"
      ],
      "metadata": {
        "id": "1-D4CFM-wL4y"
      }
    },
    {
      "cell_type": "code",
      "source": [
        "import numpy as np # Importa la librería NumPy\n",
        "# Entradas para la neurona\n",
        "X = np.array([\n",
        "    [0, 0], # Tenemos la matriz de 4x2 donde 0= Verdadero y 1= Falso, por lo tanto, tenemos Verdadero Verdadero\n",
        "    [0, 1], # Verdadero con Falso\n",
        "    [1, 0], # Falso con Verdadero\n",
        "    [1, 1] # Falso con Falso\n",
        "])\n",
        "# Salidas\n",
        "Y = np.array([0, 0, 0, 1]) # Al resolver con la operación lógica, como OR tenemos como resultado las operaciones realizadas\n",
        "# Pesos para las entradas\n",
        "W = [2, 5] # Tomaremos como peso el 2 y 5 para que puedan darnos los resultados que debemos obtener\n",
        "# Umbral para la función de activación\n",
        "umbral = 2 # Un umbral que será de utilidad para resolver\n",
        "\n",
        "class McCullochPitts: # Clasificamos el contenido que tendrá nuestro programa\n",
        "    def __init__(self, weights, umbral): # Definimos lo que contendrá\n",
        "        \"\"\"\n",
        "            Constructor de la neurona MCP.\n",
        "            Guarda las variables\n",
        "            weights -> vector de pesos iniciales # Le indicamos lo que equivale cada variable, aquí solo mostramos que iniciaremos con ciertos pesos\n",
        "            umbral -> umbral para usar en la funcion de activación # Utiliza cierto umbral para empezar a resolver\n",
        "        \"\"\"\n",
        "        self.weights = weights # Accede a la variable y dame como resultado la misma variable\n",
        "        self.umbral = umbral #Accede a la otra variable, y dame como resultado la misma variable\n",
        "\n",
        "    def predict(self, X): # Define la salida de la neurona que se encuentre en las 4 filas\n",
        "        \"\"\"\n",
        "            Calcula la salida de la neurona para cada fila de entradas X.\n",
        "        \"\"\"\n",
        "        # Lista donde se guardarán las salidas\n",
        "        predictions = [] # La lista será renombrada como \"Prediction\" y estará vacía\n",
        "        # Recorremos cada fila de entradas\n",
        "        for i in range(X.shape[0]): # Toma el primer valor y recorrerlo en cada fila\n",
        "            # Calculamos la suma ponderada: w1*x1 + w2*x2\n",
        "            weighted_sum = np.dot(self.weights, X[i]) # Suma los pesos con cada fila de la matriz y da como resultado la afirmación \"verdadero\" o \"falso\", de acuerdo a los resultados obtenidos\n",
        "            # Mostramos en consola la entrada y la suma ponderada\n",
        "            print(f\"Input: {X[i]}, Weighted Sum: {weighted_sum}\") # Da el resultado entrada de la suma de los pesos de cada fila\n",
        "            # Comparación con el umbral determinar si la neurona se activa o no\n",
        "            if weighted_sum >= self.umbral: # Muestra si la suma de los pesos es mayor al umbral\n",
        "                predictions.append(1) # A la lista añadale 1 al final\n",
        "            else: # Sino realiza lo siguente\n",
        "                predictions.append(0) # De la lista añade un 0 al final\n",
        "        return predictions # Finaliza la ejecución de mi lista\n",
        "\n",
        "        # Instanciamos la clase McCullochPitts\n",
        "mcp = McCullochPitts(W, umbral) # Inicia con la clase\n",
        "# Calculamos las predicciones\n",
        "predictions = mcp.predict(X) # Predice si mcp se encuentra en la fila y muestra el resultado\n",
        "# Mostramos el resultado final\n",
        "print(\"Predictions:\", predictions) # Imprime las predicciones y muestra como queda"
      ],
      "metadata": {
        "colab": {
          "base_uri": "https://localhost:8080/"
        },
        "id": "0kYrk5xsjGwZ",
        "outputId": "c6408eba-63d2-4d6e-c90b-7e1a1c8dea92"
      },
      "execution_count": null,
      "outputs": [
        {
          "output_type": "stream",
          "name": "stdout",
          "text": [
            "Input: [0 0], Weighted Sum: 0\n",
            "Input: [0 1], Weighted Sum: 5\n",
            "Input: [1 0], Weighted Sum: 2\n",
            "Input: [1 1], Weighted Sum: 7\n",
            "Predictions: [0, 1, 1, 1]\n"
          ]
        }
      ]
    }
  ]
}