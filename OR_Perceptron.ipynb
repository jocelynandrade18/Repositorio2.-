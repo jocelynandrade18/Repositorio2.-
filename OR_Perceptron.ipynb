{
  "nbformat": 4,
  "nbformat_minor": 0,
  "metadata": {
    "colab": {
      "provenance": [],
      "authorship_tag": "ABX9TyNGCu0P63ID1rGrZHO8rdj5",
      "include_colab_link": true
    },
    "kernelspec": {
      "name": "python3",
      "display_name": "Python 3"
    },
    "language_info": {
      "name": "python"
    }
  },
  "cells": [
    {
      "cell_type": "markdown",
      "metadata": {
        "id": "view-in-github",
        "colab_type": "text"
      },
      "source": [
        "<a href=\"https://colab.research.google.com/github/jocelynandrade18/Repositorio2.-/blob/main/OR_Perceptron.ipynb\" target=\"_parent\"><img src=\"https://colab.research.google.com/assets/colab-badge.svg\" alt=\"Open In Colab\"/></a>"
      ]
    },
    {
      "cell_type": "markdown",
      "source": [
        "# Modelo **Perceptron**\n"
      ],
      "metadata": {
        "id": "RsExEz414ihv"
      }
    },
    {
      "cell_type": "markdown",
      "source": [
        "Realizamos el modelo del perceptron para resolver el problema de la Operacion logica ´OR´\n",
        "\n"
      ],
      "metadata": {
        "id": "sZeccqlv4dGA"
      }
    },
    {
      "cell_type": "code",
      "execution_count": 6,
      "metadata": {
        "colab": {
          "base_uri": "https://localhost:8080/"
        },
        "id": "I5W5o1Gf4XPW",
        "outputId": "7b0f88dc-944f-4267-9f5f-c6402d579e5b"
      },
      "outputs": [
        {
          "output_type": "stream",
          "name": "stdout",
          "text": [
            "ENTRENAMIENTO Y PREDICCIÓN PARA OR\n",
            "Dato [0, 0], Pesos: [0.0, 0.0] y sesgo es -0.1\n",
            "Dato [0, 1], Pesos: [0.0, 0.1] y sesgo es 0.0\n",
            "Dato [1, 0], Pesos: [0.0, 0.1] y sesgo es 0.0\n",
            "Dato [1, 1], Pesos: [0.0, 0.1] y sesgo es 0.0\n",
            "Epoca 0, Pesos: [0.0, 0.1] y sesgo es 0.0\n",
            "Dato [0, 0], Pesos: [0.0, 0.1] y sesgo es -0.1\n",
            "Dato [0, 1], Pesos: [0.0, 0.1] y sesgo es -0.1\n",
            "Dato [1, 0], Pesos: [0.1, 0.1] y sesgo es 0.0\n",
            "Dato [1, 1], Pesos: [0.1, 0.1] y sesgo es 0.0\n",
            "Epoca 1, Pesos: [0.1, 0.1] y sesgo es 0.0\n",
            "Dato [0, 0], Pesos: [0.1, 0.1] y sesgo es -0.1\n",
            "Dato [0, 1], Pesos: [0.1, 0.1] y sesgo es -0.1\n",
            "Dato [1, 0], Pesos: [0.1, 0.1] y sesgo es -0.1\n",
            "Dato [1, 1], Pesos: [0.1, 0.1] y sesgo es -0.1\n",
            "Epoca 2, Pesos: [0.1, 0.1] y sesgo es -0.1\n",
            "Dato [0, 0], Pesos: [0.1, 0.1] y sesgo es -0.1\n",
            "Dato [0, 1], Pesos: [0.1, 0.1] y sesgo es -0.1\n",
            "Dato [1, 0], Pesos: [0.1, 0.1] y sesgo es -0.1\n",
            "Dato [1, 1], Pesos: [0.1, 0.1] y sesgo es -0.1\n",
            "Epoca 3, Pesos: [0.1, 0.1] y sesgo es -0.1\n",
            "Dato [0, 0], Pesos: [0.1, 0.1] y sesgo es -0.1\n",
            "Dato [0, 1], Pesos: [0.1, 0.1] y sesgo es -0.1\n",
            "Dato [1, 0], Pesos: [0.1, 0.1] y sesgo es -0.1\n",
            "Dato [1, 1], Pesos: [0.1, 0.1] y sesgo es -0.1\n",
            "Epoca 4, Pesos: [0.1, 0.1] y sesgo es -0.1\n",
            "Dato [0, 0], Pesos: [0.1, 0.1] y sesgo es -0.1\n",
            "Dato [0, 1], Pesos: [0.1, 0.1] y sesgo es -0.1\n",
            "Dato [1, 0], Pesos: [0.1, 0.1] y sesgo es -0.1\n",
            "Dato [1, 1], Pesos: [0.1, 0.1] y sesgo es -0.1\n",
            "Epoca 5, Pesos: [0.1, 0.1] y sesgo es -0.1\n",
            "Dato [0, 0], Pesos: [0.1, 0.1] y sesgo es -0.1\n",
            "Dato [0, 1], Pesos: [0.1, 0.1] y sesgo es -0.1\n",
            "Dato [1, 0], Pesos: [0.1, 0.1] y sesgo es -0.1\n",
            "Dato [1, 1], Pesos: [0.1, 0.1] y sesgo es -0.1\n",
            "Epoca 6, Pesos: [0.1, 0.1] y sesgo es -0.1\n",
            "Dato [0, 0], Pesos: [0.1, 0.1] y sesgo es -0.1\n",
            "Dato [0, 1], Pesos: [0.1, 0.1] y sesgo es -0.1\n",
            "Dato [1, 0], Pesos: [0.1, 0.1] y sesgo es -0.1\n",
            "Dato [1, 1], Pesos: [0.1, 0.1] y sesgo es -0.1\n",
            "Epoca 7, Pesos: [0.1, 0.1] y sesgo es -0.1\n",
            "Dato [0, 0], Pesos: [0.1, 0.1] y sesgo es -0.1\n",
            "Dato [0, 1], Pesos: [0.1, 0.1] y sesgo es -0.1\n",
            "Dato [1, 0], Pesos: [0.1, 0.1] y sesgo es -0.1\n",
            "Dato [1, 1], Pesos: [0.1, 0.1] y sesgo es -0.1\n",
            "Epoca 8, Pesos: [0.1, 0.1] y sesgo es -0.1\n",
            "Dato [0, 0], Pesos: [0.1, 0.1] y sesgo es -0.1\n",
            "Dato [0, 1], Pesos: [0.1, 0.1] y sesgo es -0.1\n",
            "Dato [1, 0], Pesos: [0.1, 0.1] y sesgo es -0.1\n",
            "Dato [1, 1], Pesos: [0.1, 0.1] y sesgo es -0.1\n",
            "Epoca 9, Pesos: [0.1, 0.1] y sesgo es -0.1\n",
            "\n",
            " PREDICCIÓN FINAL OR\n",
            "Dato [0, 0], prediccion 0, valor real 0\n",
            "Dato [0, 1], prediccion 1, valor real 1\n",
            "Dato [1, 0], prediccion 1, valor real 1\n",
            "Dato [1, 1], prediccion 1, valor real 1\n"
          ]
        }
      ],
      "source": [
        "class Perceptron:\n",
        "    def __init__(self, pesos, sesgo, tasa_de_aprendizaje):\n",
        "      \"\"\"\n",
        "      Parametros:\n",
        "        pesos: Es una lista\n",
        "        sesgo: Es un flotante\n",
        "        tasa_de_aprendizaje: Es un flotante\n",
        "      \"\"\"\n",
        "      self.pesos = pesos\n",
        "      self.sesgo = sesgo\n",
        "      self.tasa_de_aprendizaje = tasa_de_aprendizaje\n",
        "    def funcion_de_activacion(self, z):\n",
        "      \"\"\"\n",
        "      Parametros:\n",
        "        z resultado del producto de x con los pesos + el sesgo\n",
        "      \"\"\"\n",
        "      if z >= 0:\n",
        "        return 1\n",
        "      else:\n",
        "        return 0\n",
        "\n",
        "    def entrenamiento(self, X, Y, epocas):\n",
        "      \"\"\"\n",
        "      Parametros:\n",
        "      epocas: Es un entero\n",
        "      \"\"\"\n",
        "\n",
        "      for epoca in range(epocas): #Cuantas veces recorrere las espocas\n",
        "        for dato in X:\n",
        "          # Definimos los datos\n",
        "          x1 = dato[0] #las X en las posiciones de la matriz\n",
        "          x2 = dato[1]\n",
        "          indice = X.index(dato)\n",
        "          y_real = Y[indice]\n",
        "          w1 = self.pesos[0]\n",
        "          w2 = self.pesos[1]\n",
        "          # Hacemos la prediccion del modelo\n",
        "          z = x1 * w1 + x2 * w2 + self.sesgo\n",
        "          y_pred = self.funcion_de_activacion(z)\n",
        "          # Actualizamos los pesos\n",
        "          self.pesos[0] = w1 + self.tasa_de_aprendizaje*(y_real-y_pred)*x1\n",
        "          self.pesos[1] = w2 + self.tasa_de_aprendizaje*(y_real-y_pred)*x2\n",
        "          self.sesgo = self.sesgo + self.tasa_de_aprendizaje*(y_real-y_pred)\n",
        "          print(f\"Dato {dato}, Pesos: {self.pesos} y sesgo es {self.sesgo}\")\n",
        "        print(f\"Epoca {epoca}, Pesos: {self.pesos} y sesgo es {self.sesgo}\")\n",
        "\n",
        "    def prediccion(self, X, Y):\n",
        "      \"\"\"\n",
        "      \"\"\"\n",
        "      # Definimos los datos\n",
        "      for dato in X:\n",
        "        # Definimos los datos\n",
        "        x1 = dato[0] #las X en las posiciones de la matriz\n",
        "        x2 = dato[1]\n",
        "        indice = X.index(dato)\n",
        "        y_real = Y[indice]\n",
        "        w1 = self.pesos[0]\n",
        "        w2 = self.pesos[1]\n",
        "        # Hacemos la prediccion del modelo\n",
        "        z = x1 * w1 + x2 * w2 + self.sesgo\n",
        "        y_pred = self.funcion_de_activacion(z)\n",
        "        print(f\"Dato {dato}, prediccion {y_pred}, valor real {y_real}\")\n",
        "\n",
        "print(\"ENTRENAMIENTO Y PREDICCIÓN PARA OR\")\n",
        "X = [[0, 0], [0, 1], [1, 0], [1, 1]]\n",
        "Y = [0, 1, 1, 1]\n",
        "sesgo = 0.0\n",
        "pesos = [0.0, 0.0]\n",
        "tasa_de_aprendizaje = 0.1\n",
        "p = Perceptron(pesos, sesgo, tasa_de_aprendizaje)\n",
        "\n",
        "epocas = 10\n",
        "p.entrenamiento(X, Y, epocas)\n",
        "\n",
        "print(\"\\n PREDICCIÓN FINAL OR\")\n",
        "p.prediccion(X, Y)"
      ]
    },
    {
      "cell_type": "markdown",
      "source": [
        "Explicación de la neurona con operación Lógica OR"
      ],
      "metadata": {
        "id": "HLzHmDgFDuC-"
      }
    },
    {
      "cell_type": "markdown",
      "source": [
        "Se creo el Perceptrón, y le damos sus valores iniciales:\n",
        "\n",
        "Pesos (pesos): Estos son los números que le dicen a la neurona qué tan importante es cada una de las dos entradas (x1 y x2). Empiezo dándole un peso de 0 a ambas.\n",
        "\n",
        "Sesgo (sesgo): Esto funciona como un umbral inicial. Ayuda a la neurona a activarse más fácilmente. También lo inicio en 0.\n",
        "\n",
        "Tasa de Aprendizaje (tasa_de_aprendizaje): Este valor es la velocidad a la que la neurona va a corregir sus errores. Usar un valor de 0.1 o más pequeño, el cual hará ajustes pequeños en cada corrección.\n",
        "\n",
        "Después, la neurona recibe un par de entradas, su primer paso es calcular su nivel de activación:\n",
        "\n",
        "Suma Ponderada: Multiplica cada entrada por su peso (ej: x1⋅w1) y suma todos estos productos junto con el sesgo. Esto me da un valor único, z.\n",
        "\n",
        "Activación (funcion_de_activacion): Reviso el valor z con la función escalón:\n",
        "\n",
        "Si z es mayor o igual a cero, la neurona se activa y la predicción es 1.\n",
        "\n",
        "Si z es negativo, se queda inactiva y la predicción es 0.\n",
        "\n",
        "Predicción: La neurona usa sus pesos y sesgo actuales para hacer una predicción (ypred).\n",
        "\n",
        "Cálculo del Error: Compara esa predicción con la respuesta correcta (yreal) para ver si se equivocó y, si lo hizo, cuánto fue el error (yreal−ypred).\n",
        "\n",
        "Repetición: Este ciclo se repite por todas las épocas, en este caso solo tenemos 10 de ellas, lo cual hará los mismo por cada una de ellas y estas serán de diferentes valores.\n",
        "\n",
        "Una vez que el entrenamiento termina, la neurona ha encontrado los pesos y el sesgo que definen perfectamente la regla OR. Uso el método predicción para verificar que la neurona ya no comete errores.\n",
        "\n",
        "Finalmente, imprime los resultados obtenidos por cada época, donde observamos si los valores del peso y sesgo cambian o se mantienen igual, dejando así solo los elementos del opreador lógico NOT."
      ],
      "metadata": {
        "id": "3a3exMky8lbV"
      }
    }
  ]
}